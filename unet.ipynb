{
 "cells": [
  {
   "cell_type": "code",
   "execution_count": 1,
   "metadata": {},
   "outputs": [
    {
     "name": "stdout",
     "output_type": "stream",
     "text": [
      "WARNING:tensorflow:From c:\\Users\\stevo\\handRemoval\\handvenv\\lib\\site-packages\\keras\\src\\losses.py:2976: The name tf.losses.sparse_softmax_cross_entropy is deprecated. Please use tf.compat.v1.losses.sparse_softmax_cross_entropy instead.\n",
      "\n"
     ]
    }
   ],
   "source": [
    "import numpy as np\n",
    "import pandas as pd\n",
    "import matplotlib.pyplot as plt\n",
    "import matplotlib\n",
    "%matplotlib inline\n",
    "from glob import glob\n",
    "import cv2 as cv\n",
    "from sklearn.model_selection import train_test_split\n",
    "import random\n",
    "from tqdm import tqdm\n",
    "import tensorflow as tf\n",
    "from keras.layers import Input,Conv2D,MaxPooling2D,UpSampling2D, BatchNormalization\n",
    "from keras.models import Model\n",
    "from keras import optimizers\n",
    "from keras.preprocessing.image import ImageDataGenerator, random_rotation\n",
    "from time import time\n",
    "from keras import callbacks\n",
    "import os\n",
    "from tensorflow import data as tf_data\n",
    "from tensorflow import image as tf_image\n",
    "from tensorflow import io as tf_io\n",
    "import shutil\n",
    "from keras.utils import image_dataset_from_directory\n",
    "from IPython.display import Image, display\n",
    "from keras.utils import load_img\n",
    "from PIL import ImageOps\n"
   ]
  },
  {
   "cell_type": "code",
   "execution_count": 2,
   "metadata": {},
   "outputs": [],
   "source": [
    "def resize(input_image, input_mask):\n",
    "   input_image = tf.image.resize(input_image, (128, 128), method=\"nearest\")\n",
    "   input_mask = tf.image.resize(input_mask, (128, 128), method=\"nearest\")\n",
    "   return input_image, input_mask\n",
    "\n",
    "def augment(input_image, input_mask):\n",
    "   if tf.random.uniform(()) > 0.5:\n",
    "      # Random flipping of the image and mask\n",
    "      input_image = tf.image.flip_left_right(input_image)\n",
    "      input_mask = tf.image.flip_left_right(input_mask)\n",
    "   if tf.random.uniform(()) > 0.5:\n",
    "      theta = random.randint(0, 359)\n",
    "      input_image = random_rotation(input_image, theta)\n",
    "      input_mask = random_rotation(input_mask, theta)\n",
    "   return input_image, input_mask\n",
    "\n",
    "def normalize(input_image, input_mask):\n",
    "   input_image = tf.cast(input_image, tf.float32) / 255.0\n",
    "   input_mask -= 1\n",
    "   return input_image, input_mask"
   ]
  },
  {
   "cell_type": "code",
   "execution_count": 18,
   "metadata": {},
   "outputs": [
    {
     "name": "stdout",
     "output_type": "stream",
     "text": [
      "original_images\\1_P_hgr1_id01_1.jpg | skin_masks\\1_P_hgr1_id01_1.bmp\n",
      "original_images\\1_P_hgr1_id01_2.jpg | skin_masks\\1_P_hgr1_id01_2.bmp\n",
      "original_images\\1_P_hgr1_id01_3.jpg | skin_masks\\1_P_hgr1_id01_3.bmp\n",
      "original_images\\1_P_hgr1_id02_1.jpg | skin_masks\\1_P_hgr1_id02_1.bmp\n",
      "original_images\\1_P_hgr1_id02_2.jpg | skin_masks\\1_P_hgr1_id02_2.bmp\n",
      "original_images\\1_P_hgr1_id03_1.jpg | skin_masks\\1_P_hgr1_id03_1.bmp\n",
      "original_images\\1_P_hgr1_id03_2.jpg | skin_masks\\1_P_hgr1_id03_2.bmp\n",
      "original_images\\1_P_hgr1_id04_1.jpg | skin_masks\\1_P_hgr1_id04_1.bmp\n",
      "original_images\\1_P_hgr1_id04_2.jpg | skin_masks\\1_P_hgr1_id04_2.bmp\n",
      "original_images\\1_P_hgr1_id05_1.jpg | skin_masks\\1_P_hgr1_id05_1.bmp\n"
     ]
    }
   ],
   "source": [
    "image_dir = \"original_images\"\n",
    "label_dir = \"skin_masks\"\n",
    "img_size = (640,640)\n",
    "batch_size=32\n",
    "\n",
    "input_img_paths = sorted(\n",
    "    [\n",
    "        os.path.join(image_dir, fname)\n",
    "        for fname in os.listdir(image_dir)\n",
    "    ]\n",
    ")\n",
    "target_img_paths = sorted(\n",
    "    [\n",
    "        os.path.join(label_dir, fname)\n",
    "        for fname in os.listdir(label_dir)\n",
    "    ]\n",
    ")\n",
    "\n",
    "\n",
    "for input_path, target_path in zip(input_img_paths[:10], target_img_paths[:10]):\n",
    "    print(input_path, \"|\", target_path)"
   ]
  },
  {
   "cell_type": "code",
   "execution_count": 4,
   "metadata": {},
   "outputs": [],
   "source": [
    "train_ratio = 0.75\n",
    "val_ratio = 0.15\n",
    "test_ratio = 0.10\n",
    "\n",
    "# Perform the split\n",
    "train_images, test_images, train_masks, test_masks = train_test_split(input_img_paths, target_img_paths, test_size=test_ratio, random_state=69)\n",
    "train_images, val_images, train_masks, val_masks = train_test_split(train_images, train_masks, test_size=val_ratio/(train_ratio+val_ratio), random_state=69)\n",
    "\n",
    "# Create directories for train, val, and test sets\n",
    "train_dir = 'hand_data/train'\n",
    "val_dir = 'hand_data/valid'\n",
    "test_dir = 'hand_data/test'\n",
    "\n",
    "os.makedirs(train_dir+\"/images/hand\", exist_ok=True)\n",
    "os.makedirs(val_dir+\"/images/hand\", exist_ok=True)\n",
    "os.makedirs(test_dir+\"/images/hand\", exist_ok=True)\n",
    "os.makedirs(train_dir+\"/masks/hand\", exist_ok=True)\n",
    "os.makedirs(val_dir+\"/masks/hand\", exist_ok=True)\n",
    "os.makedirs(test_dir+\"/masks/hand\", exist_ok=True)\n",
    "\n",
    "# Copy files to the corresponding directories\n",
    "def copy_files(images, masks, destination):\n",
    "    for image, mask in zip(images, masks):\n",
    "        shutil.copy(image, destination+\"/images/hand\")\n",
    "        shutil.copy(mask, destination+\"/masks/hand\")\n",
    "\n",
    "copy_files(train_images, train_masks, train_dir)\n",
    "copy_files(val_images, val_masks, val_dir)\n",
    "copy_files(test_images, test_masks, test_dir)"
   ]
  },
  {
   "cell_type": "code",
   "execution_count": 20,
   "metadata": {},
   "outputs": [
    {
     "name": "stdout",
     "output_type": "stream",
     "text": [
      "Found 674 images belonging to 1 classes.\n",
      "Found 674 images belonging to 1 classes.\n",
      "Found 135 images belonging to 1 classes.\n",
      "Found 135 images belonging to 1 classes.\n",
      "Found 90 images belonging to 1 classes.\n",
      "Found 90 images belonging to 1 classes.\n"
     ]
    }
   ],
   "source": [
    "def augment(input_image, input_mask):\n",
    "   if tf.random.uniform(()) > 0.5:\n",
    "      # Random flipping of the image and mask\n",
    "      input_image = tf.image.flip_left_right(input_image)\n",
    "      input_mask = tf.image.flip_left_right(input_mask)\n",
    "   if tf.random.uniform(()) > 0.5:\n",
    "      theta = random.randint(0, 359)\n",
    "      input_image = random_rotation(input_image, theta)\n",
    "      input_mask = random_rotation(input_mask, theta)\n",
    "   return input_image, input_mask\n",
    "\n",
    "train_datagen = ImageDataGenerator(rescale=1./255)\n",
    "val_datagen = ImageDataGenerator(rescale=1./255)\n",
    "test_datagen = ImageDataGenerator(rescale=1./255)\n",
    "\n",
    "train_image_generator = train_datagen.flow_from_directory(\n",
    "     'hand_data/train/images',\n",
    "     target_size=img_size,\n",
    "     batch_size = batch_size,\n",
    "     shuffle=False)\n",
    "train_mask_generator = train_datagen.flow_from_directory(\n",
    "     'hand_data/train/masks',\n",
    "     target_size=img_size,\n",
    "     batch_size = batch_size,\n",
    "     shuffle=False)\n",
    "\n",
    "val_image_generator = val_datagen.flow_from_directory(\n",
    "     'hand_data/valid/images',\n",
    "     target_size=img_size,\n",
    "     batch_size = batch_size,\n",
    "     shuffle=False)\n",
    "val_mask_generator = val_datagen.flow_from_directory(\n",
    "     'hand_data/valid/masks',\n",
    "     target_size=img_size,\n",
    "     batch_size = batch_size,\n",
    "     shuffle=False)\n",
    "\n",
    "test_image_generator = test_datagen.flow_from_directory(\n",
    "     'hand_data/test/images',\n",
    "     target_size=img_size,\n",
    "     batch_size = 1,\n",
    "     shuffle=False)\n",
    "test_mask_generator = test_datagen.flow_from_directory(\n",
    "     'hand_data/test/masks',\n",
    "     target_size=img_size,\n",
    "     batch_size = 1,\n",
    "     shuffle=False)\n",
    "\n",
    "train_generator = zip(train_image_generator, train_mask_generator)\n",
    "val_generator = zip(val_image_generator, val_mask_generator)\n",
    "test_generator = zip(test_image_generator, test_mask_generator)\n"
   ]
  },
  {
   "cell_type": "code",
   "execution_count": 6,
   "metadata": {},
   "outputs": [
    {
     "data": {
      "text/plain": [
       "22"
      ]
     },
     "execution_count": 6,
     "metadata": {},
     "output_type": "execute_result"
    }
   ],
   "source": [
    "len(train_image_generator)"
   ]
  },
  {
   "cell_type": "code",
   "execution_count": 7,
   "metadata": {},
   "outputs": [],
   "source": [
    "import cv2\n",
    "import numpy as np\n",
    "\n",
    "# Load an example image\n",
    "image_path = 'hand_data/test/images/hand/1_P_hgr1_id02_1.jpg'\n",
    "original_image = cv2.imread(image_path)\n",
    "mask_path = 'hand_data/test/masks/hand/1_P_hgr1_id02_1.bmp'\n",
    "original_mask = cv2.imread(mask_path)\n",
    "\n",
    "# Ensure the image is in the correct shape (height, width, channels)\n",
    "original_image = original_image.astype(np.float32) / 255.0  # Normalize to [0, 1]\n",
    "original_mask = original_mask.astype(np.float32) / 255.0  # Normalize to [0, 1]\n",
    "\n"
   ]
  },
  {
   "cell_type": "code",
   "execution_count": 15,
   "metadata": {},
   "outputs": [],
   "source": [
    "def rw_obscurity(input_mask, prob=0.01):\n",
    "    input_mask = np.dot(input_mask, [0.2989, 0.5870, 0.1140])\n",
    "    zero_indices = np.argwhere(input_mask == 0)\n",
    "    height, width = input_mask.shape\n",
    "    start_i = random.randrange(0,zero_indices.shape[0])\n",
    "    start = zero_indices[start_i,:]\n",
    "    path = [start]\n",
    "    direction = 0\n",
    "    \n",
    "    dir_dict = {\n",
    "        'left': np.array([-1,0]),\n",
    "        'up': np.array([0,1]),\n",
    "        'right': np.array([1,0]),\n",
    "        'down': np.array([0,-1])\n",
    "    }\n",
    "\n",
    "    while True:\n",
    "        r = random.uniform(0,1)\n",
    "        direction_name = list(dir_dict.keys())[direction]\n",
    "        \n",
    "        if r < prob:\n",
    "            direction = (1 + direction) % 4\n",
    "            direction_name = list(dir_dict.keys())[direction]\n",
    "        while not (0 <= (path[-1] + dir_dict[direction_name])[0] < height and 0 <= (path[-1] + dir_dict[direction_name])[1] < width):\n",
    "            direction = (1 + direction) % 4\n",
    "            direction_name = list(dir_dict.keys())[direction]\n",
    "\n",
    "        new_point = path[-1] + dir_dict[direction_name]\n",
    "        if any(np.array_equal(new_point, point) for point in path):\n",
    "            path.append(new_point)\n",
    "            break\n",
    "        path.append(new_point)\n",
    "\n",
    "    list_path = [item.tolist() for item in path]\n",
    "    start_loop = list_path.index(list_path[-1])\n",
    "    path = path[start_loop:]\n",
    "\n",
    "    return path"
   ]
  },
  {
   "cell_type": "code",
   "execution_count": 9,
   "metadata": {},
   "outputs": [
    {
     "data": {
      "text/plain": [
       "array(<map object at 0x0000021DAC397430>, dtype=object)"
      ]
     },
     "execution_count": 9,
     "metadata": {},
     "output_type": "execute_result"
    }
   ],
   "source": [
    "path = rw_obscurity(original_mask, prob=0.005)\n",
    "np.array(map(list,path))"
   ]
  },
  {
   "cell_type": "code",
   "execution_count": 28,
   "metadata": {},
   "outputs": [
    {
     "data": {
      "text/plain": [
       "-1"
      ]
     },
     "execution_count": 28,
     "metadata": {},
     "output_type": "execute_result"
    }
   ],
   "source": [
    "import cv2\n",
    "import numpy as np\n",
    "\n",
    "# Load an example image\n",
    "image_path = 'hand_data/test/images/hand/1_P_hgr1_id02_1.jpg'\n",
    "original_image = cv2.imread(image_path)\n",
    "mask_path = 'hand_data/test/masks/hand/1_P_hgr1_id02_1.bmp'\n",
    "original_mask = cv2.imread(mask_path)\n",
    "\n",
    "path = rw_obscurity(original_image, 0.01)\n",
    "path_array = np.array(list(map(list, path)), dtype=np.int32)\n",
    "cv2.fillPoly(original_image, [path_array], color=(255,255,255))\n",
    "cv2.imshow(\"\",original_image)\n",
    "cv2.waitKey(0)"
   ]
  },
  {
   "cell_type": "code",
   "execution_count": 6,
   "metadata": {},
   "outputs": [
    {
     "ename": "NameError",
     "evalue": "name 'rw_obscurity' is not defined",
     "output_type": "error",
     "traceback": [
      "\u001b[1;31m---------------------------------------------------------------------------\u001b[0m",
      "\u001b[1;31mNameError\u001b[0m                                 Traceback (most recent call last)",
      "Cell \u001b[1;32mIn[6], line 1\u001b[0m\n\u001b[1;32m----> 1\u001b[0m path \u001b[38;5;241m=\u001b[39m \u001b[43mrw_obscurity\u001b[49m(original_mask, prob\u001b[38;5;241m=\u001b[39m\u001b[38;5;241m0.005\u001b[39m)\n\u001b[0;32m      3\u001b[0m \u001b[38;5;66;03m# Display input image #7\u001b[39;00m\n\u001b[0;32m      4\u001b[0m display(Image(filename\u001b[38;5;241m=\u001b[39mtrain_images[\u001b[38;5;241m0\u001b[39m]))\n",
      "\u001b[1;31mNameError\u001b[0m: name 'rw_obscurity' is not defined"
     ]
    }
   ],
   "source": [
    "path = rw_obscurity(original_mask, prob=0.005)\n",
    "\n",
    "# Display input image #7\n",
    "display(Image(filename=train_images[0]))\n",
    "\n",
    "# Display auto-contrast version of corresponding target (per-pixel categories)\n",
    "img = ImageOps.autocontrast(load_img(train_masks[0], grayscale=True))\n",
    "display(img)\n",
    "\n",
    "\n"
   ]
  },
  {
   "cell_type": "code",
   "execution_count": 7,
   "metadata": {},
   "outputs": [],
   "source": [
    "def unet(input_img):\n",
    "\n",
    "  # First block Going down\n",
    "  d1_2 = Conv2D(16, (3, 3), activation='relu', padding='same')(input_img)\n",
    "  d1_3 = Conv2D(16, (3, 3), activation='relu', padding='same')(d1_2)\n",
    "\n",
    "  # Second block Going down\n",
    "  d2_1 = MaxPooling2D()(d1_3)\n",
    "  d2_2 = Conv2D(32, (3, 3), activation='relu', padding='same')(d2_1)\n",
    "  d2_3 = Conv2D(32, (3, 3), activation='relu', padding='same')(d2_2)\n",
    "\n",
    "  # Third block Going down\n",
    "  d3_1 = MaxPooling2D()(d2_3)\n",
    "  d3_2 = Conv2D(64, (3, 3), activation='relu', padding='same')(d3_1)\n",
    "  d3_3 = Conv2D(64, (3, 3), activation='relu', padding='same')(d3_2)\n",
    "\n",
    "  # Fourth block Going down\n",
    "  d4_1 = MaxPooling2D()(d3_3)\n",
    "  d4_2 = Conv2D(128, (3, 3), activation='relu', padding='same')(d4_1)\n",
    "  d4_3 = Conv2D(128, (3, 3), activation='relu', padding='same')(d4_2)\n",
    "\n",
    "  # Fifth block \n",
    "  d5_1 = MaxPooling2D()(d4_3)\n",
    "  d5_2 = Conv2D(256, (3, 3), activation='relu', padding='same')(d5_1)\n",
    "  d5_3 = Conv2D(256, (3, 3), activation='relu', padding='same')(d5_2)\n",
    "\n",
    "  # Fourth block going up, concatenated with Fourth block going down\n",
    "  up4_0 = UpSampling2D((2, 2))(d5_3)\n",
    "  up4_1 = tf.keras.layers.concatenate([d4_3, up4_0])\n",
    "  up4_2 = Conv2D(128, (3, 3), activation='relu', padding='same')(up4_1)\n",
    "  up4_3 = Conv2D(128, (3, 3), activation='relu', padding='same')(up4_2)\n",
    "\n",
    "  # Third block going up, concatenated with Third block going down\n",
    "  up3_0 = UpSampling2D((2, 2))(up4_3)\n",
    "  up3_1 = tf.keras.layers.concatenate([d3_3, up3_0])\n",
    "  up3_2 = Conv2D(64, (3, 3), activation='relu', padding='same')(up3_1)\n",
    "  up3_3 = Conv2D(64, (3, 3), activation='relu', padding='same')(up3_2)\n",
    "\n",
    "  # Second block going up, concatenated with Second block going down\n",
    "  up2_0 = UpSampling2D((2, 2))(up3_3)\n",
    "  up2_1 = tf.keras.layers.concatenate([d2_3, up2_0])\n",
    "  up2_2 = Conv2D(32, (3, 3), activation='relu', padding='same')(up2_1)\n",
    "  up2_3 = Conv2D(32, (3, 3), activation='relu', padding='same')(up2_2)\n",
    "\n",
    "  # First block going up, concatenated with First block going down\n",
    "  up1_0 = UpSampling2D((2, 2))(up2_3)\n",
    "  up1_1 = tf.keras.layers.concatenate([d1_3, up1_0])\n",
    "  up1_2 = Conv2D(16, (3, 3), activation='relu', padding='same')(up1_1)\n",
    "  up1_3 = Conv2D(16, (3, 3), activation='relu', padding='same')(up1_2)\n",
    "\n",
    "  # Output\n",
    "  out = Conv2D(1, (1, 1), activation='sigmoid', padding='same')(up1_3)\n",
    "\n",
    "  return out"
   ]
  },
  {
   "cell_type": "code",
   "execution_count": 27,
   "metadata": {},
   "outputs": [
    {
     "name": "stdout",
     "output_type": "stream",
     "text": [
      "Epoch 1/250\n"
     ]
    }
   ],
   "source": [
    "input_img = Input(shape=(640, 640, 3))\n",
    "model = Model(input_img, unet(input_img))\n",
    "\n",
    "input_img = Input(shape=(640, 640, 3), name='input_img')\n",
    "input_mask = Input(shape=(640, 640, 1), name='input_mask')\n",
    "\n",
    "model = Model(inputs=[input_img, input_mask], outputs=unet(input_img))\n",
    "\n",
    "epochs = 250\n",
    "\n",
    "model.compile(loss='mean_squared_error', \n",
    "              optimizer = optimizers.RMSprop())\n",
    "\n",
    "es = callbacks.EarlyStopping(patience=25,\n",
    "                            restore_best_weights=True)\n",
    "\n",
    "lr_scheduler = callbacks.LearningRateScheduler(lambda epoch: 0.002**(1+epoch/(epochs*2)))\n",
    "\n",
    "model_checkpoint = callbacks.ModelCheckpoint(\n",
    "    filepath=\"models/best-model.keras\",\n",
    "    monitor='val_loss',\n",
    "    mode='min',\n",
    "    save_best_only=True,\n",
    "    initial_value_threshold=0.01)\n",
    "\n",
    "\n",
    "unet_train = model.fit(\n",
    "    train_generator,\n",
    "    steps_per_epoch=len(train_image_generator),\n",
    "    epochs=epochs,\n",
    "    verbose=1,\n",
    "    validation_data=val_generator,\n",
    "    validation_steps=len(val_image_generator),\n",
    "    callbacks=[lr_scheduler, es, model_checkpoint])"
   ]
  },
  {
   "cell_type": "code",
   "execution_count": 21,
   "metadata": {},
   "outputs": [
    {
     "name": "stdout",
     "output_type": "stream",
     "text": [
      "90/90 [==============================] - 13s 148ms/step - loss: 0.1036\n",
      "Test Loss: 0.10357540845870972\n"
     ]
    }
   ],
   "source": [
    "evaluation = model.evaluate(test_generator, steps=len(test_image_generator))\n",
    "\n",
    "# Print the evaluation results\n",
    "print(\"Test Loss:\", evaluation)"
   ]
  },
  {
   "cell_type": "code",
   "execution_count": null,
   "metadata": {},
   "outputs": [],
   "source": [
    "def rgb2gray(rgb):\n",
    "    return np.dot(rgb[...,:3], [0.2989, 0.5870, 0.1140])\n"
   ]
  },
  {
   "cell_type": "code",
   "execution_count": 30,
   "metadata": {},
   "outputs": [
    {
     "name": "stdout",
     "output_type": "stream",
     "text": [
      "WARNING:tensorflow:From c:\\Users\\stevo\\handRemoval\\handvenv\\lib\\site-packages\\keras\\src\\backend.py:1398: The name tf.executing_eagerly_outside_functions is deprecated. Please use tf.compat.v1.executing_eagerly_outside_functions instead.\n",
      "\n",
      "WARNING:tensorflow:From c:\\Users\\stevo\\handRemoval\\handvenv\\lib\\site-packages\\keras\\src\\layers\\pooling\\max_pooling2d.py:161: The name tf.nn.max_pool is deprecated. Please use tf.nn.max_pool2d instead.\n",
      "\n"
     ]
    }
   ],
   "source": [
    "model = tf.keras.models.load_model(\"models/best.model.keras\")"
   ]
  },
  {
   "cell_type": "code",
   "execution_count": 26,
   "metadata": {},
   "outputs": [
    {
     "name": "stdout",
     "output_type": "stream",
     "text": [
      "1/1 [==============================] - 0s 153ms/step\n"
     ]
    },
    {
     "data": {
      "image/png": "[encoded data removed]",
      "text/plain": [
       "<Figure size 640x480 with 3 Axes>"
      ]
     },
     "metadata": {},
     "output_type": "display_data"
    }
   ],
   "source": [
    "sample_test_batch = next(test_generator)\n",
    "\n",
    "# Get the model's predictions\n",
    "predicted_mask = model.predict(sample_test_batch[0])\n",
    "\n",
    "# Select the first image and its corresponding mask from the batch\n",
    "sample_test_image = np.resize(sample_test_batch[0][0], (640,640,3))\n",
    "sample_test_mask = np.resize(sample_test_batch[1][0], (640,640,3))\n",
    "\n",
    "# Plot the original image\n",
    "plt.subplot(1, 3, 1)\n",
    "plt.imshow(sample_test_image)\n",
    "plt.title('Original Image')\n",
    "\n",
    "# Plot the ground truth mask\n",
    "plt.subplot(1, 3, 2)\n",
    "plt.imshow(np.squeeze(sample_test_mask), cmap='gray')\n",
    "plt.title('Ground Truth Mask')\n",
    "\n",
    "# Plot the model's predicted mask\n",
    "thresholded_predicted_mask = (np.squeeze(predicted_mask[0]) >= 0.5).astype(np.uint8)\n",
    "plt.subplot(1, 3, 3)\n",
    "plt.imshow(thresholded_predicted_mask, cmap='gray')\n",
    "plt.title('Predicted Mask')\n",
    "\n",
    "plt.show()"
   ]
  },
  {
   "cell_type": "code",
   "execution_count": 82,
   "metadata": {},
   "outputs": [],
   "source": [
    "model.save(\"models/best.model.keras\")"
   ]
  },
  {
   "cell_type": "code",
   "execution_count": null,
   "metadata": {},
   "outputs": [],
   "source": [
    "np.squeeze"
   ]
  }
 ],
 "metadata": {
  "kernelspec": {
   "display_name": "handvenv",
   "language": "python",
   "name": "python3"
  },
  "language_info": {
   "codemirror_mode": {
    "name": "ipython",
    "version": 3
   },
   "file_extension": ".py",
   "mimetype": "text/x-python",
   "name": "python",
   "nbconvert_exporter": "python",
   "pygments_lexer": "ipython3",
   "version": "3.9.9"
  }
 },
 "nbformat": 4,
 "nbformat_minor": 2
}
